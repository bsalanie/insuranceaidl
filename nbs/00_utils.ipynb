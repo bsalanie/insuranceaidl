{
 "cells": [
  {
   "cell_type": "markdown",
   "metadata": {},
   "source": [
    "# utils\n",
    "\n",
    "> Reads the data and formats it."
   ]
  },
  {
   "cell_type": "code",
   "execution_count": null,
   "metadata": {},
   "outputs": [],
   "source": [
    "#| default_exp utils\n",
    "%load_ext autoreload\n",
    "%autoreload 2"
   ]
  },
  {
   "cell_type": "code",
   "execution_count": null,
   "metadata": {},
   "outputs": [],
   "source": [
    "#| hide\n",
    "from nbdev.showdoc import *"
   ]
  },
  {
   "cell_type": "code",
   "execution_count": null,
   "metadata": {},
   "outputs": [],
   "source": [
    "#| export\n",
    "from sys import platform\n",
    "from typing import Tuple\n",
    "from pathlib import Path\n",
    "from importlib.resources import files\n",
    "import pandas as pd"
   ]
  },
  {
   "cell_type": "code",
   "execution_count": null,
   "metadata": {},
   "outputs": [],
   "source": [
    "#| export\n",
    "DATA_PATH = Path(\"..\") / Path(\"Datasets\")\n",
    "if platform in [\"linux\", \"linux2\"]:\n",
    "    DATA_PATH = Path(\"../../Datasets\")\n",
    "\n",
    "GENERAL_RESULTS_FOLDER = Path(\"Results\")\n",
    "PDF_FOLDER = Path(\"pdfs\")\n",
    "DASH = \"_\"\n",
    "\n",
    "PARAMETERS = \"parameters\"\n",
    "VARIABLE_RHO_NOTEBOOK_PATH_NO_EXTENSION = \"variable_rho\"\n",
    "CONSTANT_RHO_NOTEBOOK_PATH_NO_EXTENSION = \"constant_rho\"\n",
    "ACCUMULATED_CONSTANT_RO_DATA_PATH = \"accumulated_constant_ro_data.npy\"\n",
    "PREDICTING_FHAT_ACCURACIES_DATA_PATH = \"predicting_fhat_accuracies_data.npy\"\n",
    "PREDICTING_FHAT_NOTEBOOK_HTML_PATH = \"predicting_fhat_notebook.html\"\n",
    "PREDICTING_FHAT_SEE_RESULTS_NO_EXTENSION = \"predicting_fhat_see_results\"\n",
    "ACCUMULATED_DATA_SEE_RESULTS_NO_EXTENSION = \"accumulated_data_see_results\""
   ]
  },
  {
   "cell_type": "markdown",
   "metadata": {},
   "source": [
    "We start by loading the dataset from the FFSA 1989 survey --- only beginning drivers. The data has 6,333 insurees. Each observation has 58 variables:\n",
    "\n",
    "0. (AG25) whether the insuree is below 25 (1) or not (2)\n",
    "1. (AGE) the age of the insuree in years\n",
    "2. (AGEC) the age of the driver in years (9 if the driver was the insuree)\n",
    "3. (ALLE) German car: 1 yes, 0 no\n",
    "4. (AMER) American car: 1 yes, 0 no\n",
    "5. (ANCC) how old the driver license is (1 for less than 3, 2 for more, 9 incomplete, 0 missing)\n",
    "6. (CFDO) the nature of the deductible (1 fixed, 2 proportional, 0 no deductible)\n",
    "7. (CFVO) whether the theft guarantee comes with a deductible (1 yes, 2 no, 9 not insured against theft)\n",
    "8. (CGAR) compulsory insurance (0 is basic, 1 with theft, 2 with fire, 3 =1+2, 4 with windows, 5=1+4, 6=2+4, 7=1+2+4)\n",
    "9. (CGDO) comprehensive insurance (0 none, 1 no deductible, 2 with deductible except if collision, 3 with deductible always, 4 others)\n",
    "10. (CIDA) percentage at fault for claims smaller than 25,000FF: 0 = 0%, 1=25%, 2=50%, 3=75%, 4=100%, 9=incomplete, 99=missing.\n",
    "11. (CITR) Citroën car: 1 yes, 0 no\n",
    "12. (CODC) driver is the insured (1 yes, 2 no, 9 ncomplete, 0 missing)\n",
    "13. (CODE) accident (0 if none, 30+ if an accident)\n",
    "14. (CRES) responsibility (1 total, 2 none, 3 partial, 0 missing, 9 incomplete)\n",
    "15. (CSOC) insurance company code\n",
    "16. (DCIR) year the car started circulating\n",
    "17. (DEPT) département where the car is registered\n",
    "18. (DNAI) year of birth of insuree\n",
    "19. (FDOS) claim processing code (1 done, 2 in process, 0 missing)\n",
    "20. (FRAN) 1 if French car but not Citroën-Peugeot-Renault, 0 otherwise\n",
    "21. (GROUP) group: from 1 to 6\n",
    "22. (GSIN) guarantee activated by claim (1 compulsory or comprehensive, 2 theft, 3 fire, 4 windows, 9 missing, 0 ???)\n",
    "23. (HOM) 1 if insuree is male, otherwise 0\n",
    "24. (INDACCI) 1 if no accident at fault, 0 otherwise\n",
    "25. (ITAL) Italian car: 1 yes, 0 no\n",
    "26. (KVEH) number of cars in claim, including the insuree's (0 missing, 9 incomplete)\n",
    "27. (LIEU) département of claim (99 incomplete, 0 missing)\n",
    "28. (MFDO) deductible as percentage of claim value, or as amount if fixed (0 missing)\n",
    "29. (MFVO) deductible for theft (0 missing)\n",
    "30. (MIDA) reimbursement for claim (0 missing)\n",
    "31. (MODR) how the claim was paid (1 interinsurers, 2 no, 0 missing)\n",
    "32. (MSIN) the total amount of the claim (0 missing)\n",
    "33. (MTRC) the amount covered by the compulsory guarantee (0 missing)\n",
    "34. (NATS) the nature of the claim (1 material, 2 personal or both, 0 missing)\n",
    "35. (NBACCI) the number of claims at fault\n",
    "36. (NORD) an identifier\n",
    "37. (NSEQ) another one\n",
    "38. (PBAS) the basic premium (= [45]/[51]*100)\n",
    "39. (PEUG) Peugeot car: 1 yes, 0 no\n",
    "40. (PFIS) car fiscal horsepowers (3 a 8)\n",
    "41. (PNET) total premium, after bonus/malus, net of taxes\n",
    "42. (POID) percentage of the year covered by insurance\n",
    "43. (PROF) occupation (1 shopowner or crafts, 2 salaried, 3 civil servant, 4 farmer, 5 others, 6 retired, 7 other w/o a job, 8 unknown)\n",
    "44. (QSIN) number of claims in the year (9 missing)\n",
    "45. (RCDR) premium for compulsory coverage after bonus, net of taxes\n",
    "46. (REG) region (1 is Bourgogne-Franche Comté, 2 is Bassin Parisien W, 3 is PACA, 4 is Centre W, 5 is Grand W, 6 is SW, 7 is Ile de France, 8 is Rhône-Alpes, 9 is Est, 10 is Nord)\n",
    "47. (RENA) Renault car: 1 yes, 0 no\n",
    "48. (SCLA) class of car (how expensive, 0 to 4)\n",
    "49. (SEXE) gender (1 male, 2 female)\n",
    "50. (SGRP) real group of the car (4 to 13)\n",
    "51. (TMAJ) bonus/malus (basis 100)\n",
    "52. (TRACIR) based on [16]; is 11 if car started circulating before 1978, 10 if in 1978 or 1979, else 1989-[16]\n",
    "53. (TRAGE) age category, based on [2]. Is 0 if [2] is 18 or 19, 1 to 4 if 20 to 23, 5 if 24 or 25, 6 if 26 to 30, 7 if 31 to 45, then 8.\n",
    "54. (TRAPBAS) category of basic premium, based on [38]. 1 to 6 with breaks at 1,100; 1,400; 1,800; 2,300; and 2,900\n",
    "55. (TRES) percentage at fault if shared responsibility (0 missing)\n",
    "56. (USAG) main usage of car; 1: work, 2: home-to-work, 3: private use, 4: unknown\n"
   ]
  },
  {
   "cell_type": "code",
   "execution_count": null,
   "metadata": {},
   "outputs": [],
   "source": [
    "#| export\n",
    "\n",
    "def read_data(dataset: str # \"j88\" or \"jpropre\"\n",
    "             ) -> pd.DataFrame: # a clean data frame\n",
    "    \"\"\"\n",
    "    Reads the dataset selected and returns a clean Pandas dataframe\n",
    "    \"\"\"\n",
    "    data_file = f\"{dataset}.txt\"\n",
    "    names_vars = [\n",
    "        'Age below 25', 'Age', 'Age of driver', 'German car', 'American car', 'Age of License',\n",
    "                  'Type of deductible', 'Theft deductible', 'Compulsory coverage', 'Comprehensive coverage',\n",
    "                  'Responsibility', 'Citroën', 'Driver is insuree', 'No accident', \n",
    "                    'Responsibility code', 'Company',\n",
    "                  'Date car', 'Department registered', 'Year birth insuree', 'Claim processing',\n",
    "                  'Other french car', 'Group', 'Guarantee in claim', 'Male', 'Not at fault', \n",
    "                  'Italian car', 'Number cars in claim', 'Department claim', 'Deductible damages',\n",
    "                  'Deductible theft', 'Reimbursement', 'Settlement', 'Total cost', 'Compulsory cost', 'Nature claim', \n",
    "                  'Number claims at fault', 'Identifier 1', 'Identifier 2', 'Basic premium',\n",
    "                  'Peugeot', 'Fiscal HP', 'Total premium', 'Duration', 'Occupation', 'Number claims',\n",
    "                  'Compulsory premium', 'Region', 'Renault', 'Class car', 'Gender', 'Real group',\n",
    "                  'Bonus Malus', 'Age category car', 'Age category insuree', 'Basic premium category', \n",
    "                  'Shared responsibility', 'Car use', 'Zone'\n",
    "                 ]\n",
    "    data_dir = Path(__file__).parent / 'Datasets'\n",
    "    data = pd.read_csv(data_dir / data_file, delimiter = ' ', header=None)\n",
    "    data.columns = names_vars\n",
    "    # we change the types of the non-categorical variables\n",
    "    for float_col in ['Deductible damages', 'Deductible theft', 'Reimbursement', 'Total cost', 'Compulsory cost',\n",
    "                     'Total premium', 'Bonus Malus']:\n",
    "        data[float_col]=data[float_col].astype(float)\n",
    "    return data"
   ]
  },
  {
   "cell_type": "code",
   "execution_count": null,
   "metadata": {},
   "outputs": [],
   "source": [
    "#| export\n",
    "\n",
    "def select_variables(data: pd.DataFrame # the Pandas data frame\n",
    "                    ) -> Tuple[pd.Series, pd.Series, pd.Series, pd.DataFrame]: # `y1, y2, w, X`\n",
    "    \"\"\" returns the `y` variables, the weights, and the `X` covariates\"\"\"\n",
    "    y1 = 1*(data['Comprehensive coverage'] > 0)\n",
    "    y2 = 1*(data['Not at fault'] == 0)\n",
    "    w = data['Duration']\n",
    "\n",
    "    X = data[['Group', 'Male', 'Occupation', 'Region', 'Renault', 'Age category car',\n",
    "           'Age category insuree', 'Car use', 'Zone']].astype('category')\n",
    "\n",
    "    return y1, y2, w, X"
   ]
  },
  {
   "cell_type": "code",
   "execution_count": null,
   "metadata": {},
   "outputs": [],
   "source": [
    "#| hide\n",
    "import nbdev; nbdev.nbdev_export()"
   ]
  },
  {
   "cell_type": "code",
   "execution_count": null,
   "metadata": {},
   "outputs": [],
   "source": []
  },
  {
   "cell_type": "code",
   "execution_count": null,
   "metadata": {},
   "outputs": [],
   "source": []
  },
  {
   "cell_type": "code",
   "execution_count": null,
   "metadata": {},
   "outputs": [],
   "source": []
  },
  {
   "cell_type": "code",
   "execution_count": null,
   "metadata": {},
   "outputs": [],
   "source": []
  },
  {
   "cell_type": "code",
   "execution_count": null,
   "metadata": {},
   "outputs": [],
   "source": []
  },
  {
   "cell_type": "code",
   "execution_count": null,
   "metadata": {},
   "outputs": [],
   "source": []
  },
  {
   "cell_type": "code",
   "execution_count": null,
   "metadata": {},
   "outputs": [],
   "source": []
  },
  {
   "cell_type": "code",
   "execution_count": null,
   "metadata": {},
   "outputs": [],
   "source": []
  }
 ],
 "metadata": {
  "kernelspec": {
   "display_name": "Python 3 (ipykernel)",
   "language": "python",
   "name": "python3"
  }
 },
 "nbformat": 4,
 "nbformat_minor": 4
}
